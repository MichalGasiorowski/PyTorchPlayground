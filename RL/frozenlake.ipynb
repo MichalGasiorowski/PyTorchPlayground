{
 "cells": [
  {
   "cell_type": "raw",
   "metadata": {
    "pycharm": {
     "name": "#%% raw\n"
    }
   },
   "source": [
    "import numpy as np\n",
    "import gym\n",
    "import random\n",
    "import time\n",
    "from IPython.display import clear_output\n",
    "\n",
    "\n",
    "env = gym.make(\"FrozenLake-v0\")\n",
    "\n"
   ]
  },
  {
   "cell_type": "code",
   "execution_count": 19,
   "metadata": {},
   "outputs": [],
   "source": [
    "action_space_size = env.action_space.n\n",
    "state_space_size = env.observation_space.n\n",
    "\n",
    "q_table = np.zeros((state_space_size, action_space_size))\n"
   ]
  },
  {
   "cell_type": "code",
   "execution_count": 37,
   "metadata": {},
   "outputs": [
    {
     "name": "stdout",
     "output_type": "stream",
     "text": [
      "0.0002\n"
     ]
    }
   ],
   "source": [
    "num_episodes = 5*10**4\n",
    "max_steps_per_episode = 100\n",
    "\n",
    "learning_rate = 0.1\n",
    "discount_rate = 0.99\n",
    "\n",
    "exploration_rate = 1\n",
    "max_exploration_rate = 1\n",
    "min_exploration_rate = 0.01\n",
    "exploration_decay_rate = 0.001\n",
    "normalized_exploration_decay_rate = exploration_decay_rate * (10**4 / num_episodes)\n",
    "print(normalized_exploration_decay_rate)"
   ]
  },
  {
   "cell_type": "code",
   "execution_count": 38,
   "metadata": {},
   "outputs": [
    {
     "name": "stdout",
     "output_type": "stream",
     "text": [
      "Training in progress, Episode number:  0 expl_rate: 1\n",
      "Training in progress, Episode number:  1000 expl_rate: 0.8207055704482612\n",
      "Training in progress, Episode number:  2000 expl_rate: 0.6737495822176197\n",
      "Training in progress, Episode number:  3000 expl_rate: 0.5534321953042277\n",
      "Training in progress, Episode number:  4000 expl_rate: 0.4549246505082512\n",
      "Training in progress, Episode number:  5000 expl_rate: 0.3742734941735784\n",
      "Training in progress, Episode number:  6000 expl_rate: 0.3082419122110817\n",
      "Training in progress, Episode number:  7000 expl_rate: 0.2541798253839962\n",
      "Training in progress, Episode number:  8000 expl_rate: 0.20991753232308935\n",
      "Training in progress, Episode number:  9000 expl_rate: 0.17367863179237475\n",
      "Training in progress, Episode number:  10000 expl_rate: 0.14400872947014468\n",
      "Training in progress, Episode number:  11000 expl_rate: 0.11971706799811506\n",
      "Training in progress, Episode number:  12000 expl_rate: 0.0998287377076049\n",
      "Training in progress, Episode number:  13000 expl_rate: 0.08354555007139186\n",
      "Training in progress, Episode number:  14000 expl_rate: 0.07021400359548507\n",
      "Training in progress, Episode number:  15000 expl_rate: 0.05929905650957181\n",
      "Training in progress, Episode number:  16000 expl_rate: 0.05036265366211571\n",
      "Training in progress, Episode number:  17000 expl_rate: 0.04304614582900976\n",
      "Training in progress, Episode number:  18000 expl_rate: 0.037055895860909974\n",
      "Training in progress, Episode number:  19000 expl_rate: 0.032151493993402266\n",
      "Training in progress, Episode number:  20000 expl_rate: 0.028136109359020632\n",
      "Training in progress, Episode number:  21000 expl_rate: 0.02484859047341559\n",
      "Training in progress, Episode number:  22000 expl_rate: 0.022156997660446102\n",
      "Training in progress, Episode number:  23000 expl_rate: 0.0199533078497043\n",
      "Training in progress, Episode number:  24000 expl_rate: 0.018149079231405386\n",
      "Training in progress, Episode number:  25000 expl_rate: 0.016671901776020674\n",
      "Training in progress, Episode number:  26000 expl_rate: 0.01546249116554373\n",
      "Training in progress, Episode number:  27000 expl_rate: 0.014472309505647443\n",
      "Training in progress, Episode number:  28000 expl_rate: 0.013661617329556548\n",
      "Training in progress, Episode number:  29000 expl_rate: 0.012997878713711221\n",
      "Training in progress, Episode number:  30000 expl_rate: 0.01245445549691324\n",
      "Training in progress, Episode number:  31000 expl_rate: 0.012009538197384168\n",
      "Training in progress, Episode number:  32000 expl_rate: 0.011645270721683311\n",
      "Training in progress, Episode number:  33000 expl_rate: 0.011347033736980932\n",
      "Training in progress, Episode number:  34000 expl_rate: 0.011102857945899847\n",
      "Training in progress, Episode number:  35000 expl_rate: 0.010902943716584618\n",
      "Training in progress, Episode number:  36000 expl_rate: 0.010739267789066356\n",
      "Training in progress, Episode number:  37000 expl_rate: 0.010605261273668593\n",
      "Training in progress, Episode number:  38000 expl_rate: 0.010495546018399625\n",
      "Training in progress, Episode number:  39000 expl_rate: 0.01040571876482912\n",
      "Training in progress, Episode number:  40000 expl_rate: 0.010332174429866415\n",
      "Training in progress, Episode number:  41000 expl_rate: 0.010271961421117779\n",
      "Training in progress, Episode number:  42000 expl_rate: 0.010222663179119917\n",
      "Training in progress, Episode number:  43000 expl_rate: 0.010182301192323587\n",
      "Training in progress, Episode number:  44000 expl_rate: 0.010149255592478104\n",
      "Training in progress, Episode number:  45000 expl_rate: 0.010122200143630699\n",
      "Training in progress, Episode number:  46000 expl_rate: 0.010100049015620999\n",
      "Training in progress, Episode number:  47000 expl_rate: 0.010081913205904092\n",
      "Training in progress, Episode number:  48000 expl_rate: 0.01006706486075689\n",
      "Training in progress, Episode number:  49000 expl_rate: 0.010054908063952558\n"
     ]
    }
   ],
   "source": [
    "q_table = np.zeros((state_space_size, action_space_size))\n",
    "rewards_all_episodes = []\n",
    "for episode in range(num_episodes):\n",
    "    if episode % 1000 == 0:\n",
    "        print(\"Training in progress, Episode number: \", episode, \"expl_rate:\", exploration_rate)\n",
    "    # initialize new episode params\n",
    "    state = env.reset()\n",
    "    done = False\n",
    "    rewards_current_episode = 0\n",
    "    \n",
    "    for step in range(max_steps_per_episode):\n",
    "        # Exploration-exploitation trade-off\n",
    "        exploration_rate_threshold = random.uniform(0, 1)\n",
    "        if exploration_rate_threshold > exploration_rate:\n",
    "            action = np.argmax(q_table[state,:])\n",
    "        else:\n",
    "            action = env.action_space.sample()\n",
    "            \n",
    "        # Take new action\n",
    "        new_state, reward, done, info = env.step(action)\n",
    "        \n",
    "        # Update Q-table\n",
    "        q_table[state, action] = q_table[state, action] * (1 - learning_rate) + \\\n",
    "            learning_rate * (reward + discount_rate * np.max(q_table[new_state, :]))\n",
    "        \n",
    "        # Set new state\n",
    "        state = new_state\n",
    "        \n",
    "        # Add new reward\n",
    "        rewards_current_episode += reward\n",
    "        if done == True: \n",
    "            break\n",
    "    # Exploration rate decay\n",
    "    exploration_rate = min_exploration_rate + \\\n",
    "        ( max_exploration_rate - min_exploration_rate) * ( np.exp(-normalized_exploration_decay_rate*episode))\n",
    "    # Add current episode reward to total rewards list\n",
    "    rewards_all_episodes.append(rewards_current_episode)\n"
   ]
  },
  {
   "cell_type": "code",
   "execution_count": 39,
   "metadata": {},
   "outputs": [
    {
     "name": "stdout",
     "output_type": "stream",
     "text": [
      "********Average reward per thousand episodes********\n",
      "\n",
      "1000 :  0.016000000000000007\n",
      "2000 :  0.035000000000000024\n",
      "3000 :  0.04900000000000004\n",
      "4000 :  0.059000000000000045\n",
      "5000 :  0.09000000000000007\n",
      "6000 :  0.1240000000000001\n",
      "7000 :  0.1540000000000001\n",
      "8000 :  0.19400000000000014\n",
      "9000 :  0.25000000000000017\n",
      "10000 :  0.2770000000000002\n",
      "11000 :  0.3760000000000003\n",
      "12000 :  0.3850000000000003\n",
      "13000 :  0.3920000000000003\n",
      "14000 :  0.46300000000000036\n",
      "15000 :  0.47100000000000036\n",
      "16000 :  0.5160000000000003\n",
      "17000 :  0.5060000000000003\n",
      "18000 :  0.5810000000000004\n",
      "19000 :  0.5980000000000004\n",
      "20000 :  0.6080000000000004\n",
      "21000 :  0.6090000000000004\n",
      "22000 :  0.6520000000000005\n",
      "23000 :  0.6330000000000005\n",
      "24000 :  0.6620000000000005\n",
      "25000 :  0.6410000000000005\n",
      "26000 :  0.6700000000000005\n",
      "27000 :  0.6450000000000005\n",
      "28000 :  0.6900000000000005\n",
      "29000 :  0.6530000000000005\n",
      "30000 :  0.6490000000000005\n",
      "31000 :  0.6750000000000005\n",
      "32000 :  0.6870000000000005\n",
      "33000 :  0.6790000000000005\n",
      "34000 :  0.6380000000000005\n",
      "35000 :  0.6760000000000005\n",
      "36000 :  0.6720000000000005\n",
      "37000 :  0.6730000000000005\n",
      "38000 :  0.6710000000000005\n",
      "39000 :  0.6790000000000005\n",
      "40000 :  0.6750000000000005\n",
      "41000 :  0.6860000000000005\n",
      "42000 :  0.7050000000000005\n",
      "43000 :  0.6660000000000005\n",
      "44000 :  0.6810000000000005\n",
      "45000 :  0.6850000000000005\n",
      "46000 :  0.6840000000000005\n",
      "47000 :  0.6690000000000005\n",
      "48000 :  0.6910000000000005\n",
      "49000 :  0.6810000000000005\n",
      "50000 :  0.6820000000000005\n"
     ]
    }
   ],
   "source": [
    "# Calculate and print the average reward per thousand episodes\n",
    "rewards_per_thosand_episodes = np.split(np.array(rewards_all_episodes),num_episodes/1000)\n",
    "count = 1000\n",
    "\n",
    "\n",
    "print(\"********Average reward per thousand episodes********\\n\")\n",
    "for r in rewards_per_thosand_episodes:\n",
    "    print(count, \": \", str(sum(r/1000)))\n",
    "    count += 1000"
   ]
  },
  {
   "cell_type": "code",
   "execution_count": 40,
   "metadata": {},
   "outputs": [
    {
     "name": "stdout",
     "output_type": "stream",
     "text": [
      "\n",
      "\n",
      "***Q-table***\n",
      "\n",
      "[[0.57605106 0.51095667 0.51189128 0.50949747]\n",
      " [0.37258509 0.37231067 0.30798245 0.53783669]\n",
      " [0.40643167 0.40229146 0.41236671 0.49551838]\n",
      " [0.29430262 0.3622298  0.27993841 0.45710801]\n",
      " [0.5959662  0.44448833 0.40703459 0.293807  ]\n",
      " [0.         0.         0.         0.        ]\n",
      " [0.19508925 0.11227317 0.33377066 0.0701896 ]\n",
      " [0.         0.         0.         0.        ]\n",
      " [0.38809834 0.48066923 0.34580412 0.62122122]\n",
      " [0.51974455 0.65662733 0.45149114 0.48705704]\n",
      " [0.57520924 0.40845545 0.18024615 0.32272873]\n",
      " [0.         0.         0.         0.        ]\n",
      " [0.         0.         0.         0.        ]\n",
      " [0.54993035 0.39794883 0.77779798 0.52321788]\n",
      " [0.75969328 0.90411625 0.76603969 0.7299915 ]\n",
      " [0.         0.         0.         0.        ]]\n"
     ]
    }
   ],
   "source": [
    "# Pring updated Q-table\n",
    "print(\"\\n\\n***Q-table***\\n\")\n",
    "print(q_table)"
   ]
  },
  {
   "cell_type": "code",
   "execution_count": 45,
   "metadata": {},
   "outputs": [
    {
     "name": "stdout",
     "output_type": "stream",
     "text": [
      "  (Down)\n",
      "SFFF\n",
      "FHFH\n",
      "FFFH\n",
      "HFF\u001b[41mG\u001b[0m\n",
      "****You reached the goal!****\n"
     ]
    }
   ],
   "source": [
    "# Watch our agent play Frozen Lake by playing the best action\n",
    "# from each state according to the Q-table\n",
    "\n",
    "for episode in range(10):\n",
    "    # initialize new episdoe params\n",
    "    state = env.reset()\n",
    "    done = False\n",
    "    print(\"****EPISODE \", episode+1, \"****\\n\\n\\n\")\n",
    "    time.sleep(1)\n",
    "    for step in range(max_steps_per_episode):\n",
    "        # Show current state of environment on screen\n",
    "        clear_output(wait=True)\n",
    "        env.render()\n",
    "        time.sleep(0.2)\n",
    "        # Choose action with highest Q-value for current state\n",
    "        action = np.argmax(q_table[state,:])\n",
    "        # Take new action\n",
    "        new_state, reward, done, info = env.step(action)\n",
    "        \n",
    "        if done:\n",
    "            clear_output(wait=True)\n",
    "            env.render()\n",
    "            if reward == 1:\n",
    "                #Agent reached the goal and won episode\n",
    "                print(\"****You reached the goal!****\")\n",
    "                time.sleep(2)\n",
    "            else:\n",
    "                # Agent lost\n",
    "                print(\"****You fell through the hole!****\")\n",
    "                time.sleep(2)\n",
    "                clear_output(wait=True)\n",
    "        # set new state\n",
    "            break\n",
    "        state = new_state\n",
    "env.close()"
   ]
  }
 ],
 "metadata": {
  "kernelspec": {
   "display_name": "Python 3",
   "language": "python",
   "name": "python3"
  },
  "language_info": {
   "codemirror_mode": {
    "name": "ipython",
    "version": 3
   },
   "file_extension": ".py",
   "mimetype": "text/x-python",
   "name": "python",
   "nbconvert_exporter": "python",
   "pygments_lexer": "ipython3",
   "version": "3.7.5"
  },
  "pycharm": {
   "stem_cell": {
    "cell_type": "raw",
    "metadata": {
     "collapsed": false
    },
    "source": []
   }
  }
 },
 "nbformat": 4,
 "nbformat_minor": 2
}
